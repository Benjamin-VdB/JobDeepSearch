{
 "cells": [
  {
   "cell_type": "markdown",
   "metadata": {},
   "source": [
    "## Job Search and Ranking function based on Semantics and Word Embeddings\n",
    "\n",
    "This notebook presents a mockup of a search and ranking function based on semantics of 20000 job descriptions (dataset extracted from Monster.com jobs).\n",
    "This methodology using word embeddings captures the context and the semantics of the analysed text, compared to a classic search function based on words counts per documents (Vector Space Model and Term Frequency-Inverse Document Frequency).\n",
    "\n",
    "A word embedding Work2Vec model is build from these descriptions to capture the semantics and the context.\n",
    "This model is then enriched with a generic Word2Vec model based on a Google News corpus, the job descriptions being not sufficient to build a full language model.\n",
    "\n",
    "The resulted ranking of a search is based on the cosine similarity between the query and the different job descriptions scored with the word embedding model (300 dim vector).\n",
    "\n",
    "The TSNE dimension reduction method allows to visualise the job descritions in a 3D space. \n",
    "\n",
    "Possible improvement: TF-IDF weighting for job descriptions scoring\n",
    "\n",
    "### Dependencies\n",
    "- Numpy\n",
    "- Gensim for text processing and word2vec model\n",
    "- nltk\n",
    "- tensorflow for T-SNE visualisation\n"
   ]
  },
  {
   "cell_type": "code",
   "execution_count": 1,
   "metadata": {},
   "outputs": [],
   "source": [
    "# libraries\n",
    "\n",
    "import pandas as pd\n",
    "import re\n",
    "import codecs\n",
    "import multiprocessing\n",
    "import gensim\n",
    "from gensim.models import Word2Vec\n",
    "from gensim.parsing.preprocessing import preprocess_string, remove_stopwords, stem_text\n",
    "from gensim.sklearn_api import TfIdfTransformer\n",
    "\n",
    "import nltk\n",
    "import numpy as np\n",
    "\n",
    "import os\n",
    "import tensorflow as tf\n",
    "from tensorflow.contrib.tensorboard.plugins import projector"
   ]
  },
  {
   "cell_type": "markdown",
   "metadata": {},
   "source": [
    "### Dataset and Cleaning"
   ]
  },
  {
   "cell_type": "code",
   "execution_count": 2,
   "metadata": {},
   "outputs": [
    {
     "data": {
      "text/html": [
       "<div>\n",
       "<style scoped>\n",
       "    .dataframe tbody tr th:only-of-type {\n",
       "        vertical-align: middle;\n",
       "    }\n",
       "\n",
       "    .dataframe tbody tr th {\n",
       "        vertical-align: top;\n",
       "    }\n",
       "\n",
       "    .dataframe thead th {\n",
       "        text-align: right;\n",
       "    }\n",
       "</style>\n",
       "<table border=\"1\" class=\"dataframe\">\n",
       "  <thead>\n",
       "    <tr style=\"text-align: right;\">\n",
       "      <th></th>\n",
       "      <th>country</th>\n",
       "      <th>country_code</th>\n",
       "      <th>date_added</th>\n",
       "      <th>has_expired</th>\n",
       "      <th>job_board</th>\n",
       "      <th>job_description</th>\n",
       "      <th>job_title</th>\n",
       "      <th>job_type</th>\n",
       "      <th>location</th>\n",
       "      <th>organization</th>\n",
       "      <th>page_url</th>\n",
       "      <th>salary</th>\n",
       "      <th>sector</th>\n",
       "      <th>uniq_id</th>\n",
       "    </tr>\n",
       "  </thead>\n",
       "  <tbody>\n",
       "    <tr>\n",
       "      <th>0</th>\n",
       "      <td>United States of America</td>\n",
       "      <td>US</td>\n",
       "      <td>NaN</td>\n",
       "      <td>No</td>\n",
       "      <td>jobs.monster.com</td>\n",
       "      <td>TeamSoft is seeing an IT Support Specialist to...</td>\n",
       "      <td>IT Support Technician Job in Madison</td>\n",
       "      <td>Full Time Employee</td>\n",
       "      <td>Madison, WI 53702</td>\n",
       "      <td>NaN</td>\n",
       "      <td>http://jobview.monster.com/it-support-technici...</td>\n",
       "      <td>NaN</td>\n",
       "      <td>IT/Software Development</td>\n",
       "      <td>11d599f229a80023d2f40e7c52cd941e</td>\n",
       "    </tr>\n",
       "    <tr>\n",
       "      <th>1</th>\n",
       "      <td>United States of America</td>\n",
       "      <td>US</td>\n",
       "      <td>NaN</td>\n",
       "      <td>No</td>\n",
       "      <td>jobs.monster.com</td>\n",
       "      <td>The Wisconsin State Journal is seeking a flexi...</td>\n",
       "      <td>Business Reporter/Editor Job in Madison</td>\n",
       "      <td>Full Time</td>\n",
       "      <td>Madison, WI 53708</td>\n",
       "      <td>Printing and Publishing</td>\n",
       "      <td>http://jobview.monster.com/business-reporter-e...</td>\n",
       "      <td>NaN</td>\n",
       "      <td>NaN</td>\n",
       "      <td>e4cbb126dabf22159aff90223243ff2a</td>\n",
       "    </tr>\n",
       "    <tr>\n",
       "      <th>2</th>\n",
       "      <td>United States of America</td>\n",
       "      <td>US</td>\n",
       "      <td>NaN</td>\n",
       "      <td>No</td>\n",
       "      <td>jobs.monster.com</td>\n",
       "      <td>Report this job About the Job DePuy Synthes Co...</td>\n",
       "      <td>Johnson &amp; Johnson Family of Companies Job Appl...</td>\n",
       "      <td>Full Time, Employee</td>\n",
       "      <td>DePuy Synthes Companies is a member of Johnson...</td>\n",
       "      <td>Personal and Household Services</td>\n",
       "      <td>http://jobview.monster.com/senior-training-lea...</td>\n",
       "      <td>NaN</td>\n",
       "      <td>NaN</td>\n",
       "      <td>839106b353877fa3d896ffb9c1fe01c0</td>\n",
       "    </tr>\n",
       "    <tr>\n",
       "      <th>3</th>\n",
       "      <td>United States of America</td>\n",
       "      <td>US</td>\n",
       "      <td>NaN</td>\n",
       "      <td>No</td>\n",
       "      <td>jobs.monster.com</td>\n",
       "      <td>Why Join Altec? If you’re considering a career...</td>\n",
       "      <td>Engineer - Quality Job in Dixon</td>\n",
       "      <td>Full Time</td>\n",
       "      <td>Dixon, CA</td>\n",
       "      <td>Altec Industries</td>\n",
       "      <td>http://jobview.monster.com/engineer-quality-jo...</td>\n",
       "      <td>NaN</td>\n",
       "      <td>Experienced (Non-Manager)</td>\n",
       "      <td>58435fcab804439efdcaa7ecca0fd783</td>\n",
       "    </tr>\n",
       "    <tr>\n",
       "      <th>4</th>\n",
       "      <td>United States of America</td>\n",
       "      <td>US</td>\n",
       "      <td>NaN</td>\n",
       "      <td>No</td>\n",
       "      <td>jobs.monster.com</td>\n",
       "      <td>Position ID#  76162 # Positions  1 State  CT C...</td>\n",
       "      <td>Shift Supervisor - Part-Time Job in Camphill</td>\n",
       "      <td>Full Time Employee</td>\n",
       "      <td>Camphill, PA</td>\n",
       "      <td>Retail</td>\n",
       "      <td>http://jobview.monster.com/shift-supervisor-pa...</td>\n",
       "      <td>NaN</td>\n",
       "      <td>Project/Program Management</td>\n",
       "      <td>64d0272dc8496abfd9523a8df63c184c</td>\n",
       "    </tr>\n",
       "  </tbody>\n",
       "</table>\n",
       "</div>"
      ],
      "text/plain": [
       "                    country country_code date_added has_expired  \\\n",
       "0  United States of America           US        NaN          No   \n",
       "1  United States of America           US        NaN          No   \n",
       "2  United States of America           US        NaN          No   \n",
       "3  United States of America           US        NaN          No   \n",
       "4  United States of America           US        NaN          No   \n",
       "\n",
       "          job_board                                    job_description  \\\n",
       "0  jobs.monster.com  TeamSoft is seeing an IT Support Specialist to...   \n",
       "1  jobs.monster.com  The Wisconsin State Journal is seeking a flexi...   \n",
       "2  jobs.monster.com  Report this job About the Job DePuy Synthes Co...   \n",
       "3  jobs.monster.com  Why Join Altec? If you’re considering a career...   \n",
       "4  jobs.monster.com  Position ID#  76162 # Positions  1 State  CT C...   \n",
       "\n",
       "                                           job_title             job_type  \\\n",
       "0               IT Support Technician Job in Madison   Full Time Employee   \n",
       "1            Business Reporter/Editor Job in Madison            Full Time   \n",
       "2  Johnson & Johnson Family of Companies Job Appl...  Full Time, Employee   \n",
       "3                    Engineer - Quality Job in Dixon            Full Time   \n",
       "4       Shift Supervisor - Part-Time Job in Camphill   Full Time Employee   \n",
       "\n",
       "                                            location  \\\n",
       "0                                  Madison, WI 53702   \n",
       "1                                  Madison, WI 53708   \n",
       "2  DePuy Synthes Companies is a member of Johnson...   \n",
       "3                                          Dixon, CA   \n",
       "4                                       Camphill, PA   \n",
       "\n",
       "                      organization  \\\n",
       "0                              NaN   \n",
       "1          Printing and Publishing   \n",
       "2  Personal and Household Services   \n",
       "3                 Altec Industries   \n",
       "4                           Retail   \n",
       "\n",
       "                                            page_url salary  \\\n",
       "0  http://jobview.monster.com/it-support-technici...    NaN   \n",
       "1  http://jobview.monster.com/business-reporter-e...    NaN   \n",
       "2  http://jobview.monster.com/senior-training-lea...    NaN   \n",
       "3  http://jobview.monster.com/engineer-quality-jo...    NaN   \n",
       "4  http://jobview.monster.com/shift-supervisor-pa...    NaN   \n",
       "\n",
       "                       sector                           uniq_id  \n",
       "0     IT/Software Development  11d599f229a80023d2f40e7c52cd941e  \n",
       "1                         NaN  e4cbb126dabf22159aff90223243ff2a  \n",
       "2                         NaN  839106b353877fa3d896ffb9c1fe01c0  \n",
       "3   Experienced (Non-Manager)  58435fcab804439efdcaa7ecca0fd783  \n",
       "4  Project/Program Management  64d0272dc8496abfd9523a8df63c184c  "
      ]
     },
     "execution_count": 2,
     "metadata": {},
     "output_type": "execute_result"
    }
   ],
   "source": [
    "# Import the job dataset\n",
    "jobs = pd.read_csv('../../Data/Jobs/monster_com-job_sample.csv')\n",
    "jobs.head()"
   ]
  },
  {
   "cell_type": "code",
   "execution_count": 3,
   "metadata": {},
   "outputs": [],
   "source": [
    "# quick clean up of job titles and sectors   \n",
    "job_titles = jobs[\"job_title\"]\n",
    "\n",
    "job_titles = job_titles.str.lower()\n",
    "job_titles = job_titles.str.split(\"job in\", n = 1, expand = True)[0] \n",
    "job_titles2 = job_titles.str.split(\"job application for\", n = 1, expand = True)[1] \\\n",
    "                        .str.split('|', n = 1, expand = True)[0] \\\n",
    "                        .str.split('-', n = 1, expand = True)[0]\n",
    "job_titles = job_titles2.combine_first(job_titles)\n",
    "\n",
    "jobs[\"job_title\"] = job_titles\n",
    "jobs['job_title'] = jobs['job_title'].fillna('no title')\n",
    "jobs['sector'] = jobs['sector'].fillna('no sector')\n",
    "\n",
    "jobs.job_description.to_csv('job_descriptions.txt', header=False, index=False, sep=' ')"
   ]
  },
  {
   "cell_type": "markdown",
   "metadata": {},
   "source": [
    "### Job Descriptions Word2Vec Model\n",
    "\n",
    "Word2Vec model with 300 dimensions and 10 words window"
   ]
  },
  {
   "cell_type": "code",
   "execution_count": 4,
   "metadata": {},
   "outputs": [],
   "source": [
    "# Word2Vec process and train functions\n",
    "\n",
    "def preprocess_text(text):\n",
    "    text = re.sub('[^a-zA-Zа-яА-Я1-9]+', ' ', text)\n",
    "    text = re.sub(' +', ' ', text)\n",
    "    return text.strip()\n",
    "\n",
    "def prepare_for_w2v(filename_from, filename_to, lang):\n",
    "    raw_text = codecs.open(filename_from, \"r\", encoding='utf-8').read()\n",
    "    with open(filename_to, 'w', encoding='utf-8') as f:\n",
    "        for sentence in nltk.sent_tokenize(raw_text, lang):\n",
    "            print(preprocess_text(sentence.lower()), file=f)\n",
    "            \n",
    "def train_word2vec(filename):\n",
    "    data = gensim.models.word2vec.LineSentence(filename)\n",
    "    return Word2Vec(data, size=300, window=10, min_count=1, workers=multiprocessing.cpu_count())"
   ]
  },
  {
   "cell_type": "code",
   "execution_count": 5,
   "metadata": {},
   "outputs": [],
   "source": [
    "prepare_for_w2v('./job_descriptions.txt', 'job_descriptions_prep.txt', 'english')"
   ]
  },
  {
   "cell_type": "code",
   "execution_count": 6,
   "metadata": {},
   "outputs": [],
   "source": [
    "model_jobdesc = train_word2vec('job_descriptions_prep.txt')"
   ]
  },
  {
   "cell_type": "code",
   "execution_count": 7,
   "metadata": {},
   "outputs": [],
   "source": [
    "model_jobdesc.save('job_desc_model.model')"
   ]
  },
  {
   "cell_type": "markdown",
   "metadata": {},
   "source": [
    "The word embeddings are extracted to enrich the Google News model"
   ]
  },
  {
   "cell_type": "code",
   "execution_count": 8,
   "metadata": {},
   "outputs": [
    {
     "name": "stderr",
     "output_type": "stream",
     "text": [
      "c:\\users\\ben.vdb\\.conda\\envs\\nlp\\lib\\site-packages\\ipykernel_launcher.py:4: DeprecationWarning: Call to deprecated `__getitem__` (Method will be removed in 4.0.0, use self.wv.__getitem__() instead).\n",
      "  after removing the cwd from sys.path.\n"
     ]
    }
   ],
   "source": [
    "words_jd = []\n",
    "embeddings_jd = []\n",
    "for word in list(model_jobdesc.wv.vocab):\n",
    "    embeddings_jd.append(model_jobdesc[word])\n",
    "    words_jd.append(word)"
   ]
  },
  {
   "cell_type": "code",
   "execution_count": 9,
   "metadata": {},
   "outputs": [
    {
     "data": {
      "text/plain": [
       "99372"
      ]
     },
     "execution_count": 9,
     "metadata": {},
     "output_type": "execute_result"
    }
   ],
   "source": [
    "len(words_jd)"
   ]
  },
  {
   "cell_type": "markdown",
   "metadata": {},
   "source": [
    "99372 words in the job descriptions corpus"
   ]
  },
  {
   "cell_type": "markdown",
   "metadata": {},
   "source": [
    "### Google News Word2Vec model enrichement\n",
    "\n",
    "Job descriptions word embedding are added to the Google Model\n",
    "\n",
    "We have now 3071336 words in the model"
   ]
  },
  {
   "cell_type": "code",
   "execution_count": 10,
   "metadata": {},
   "outputs": [],
   "source": [
    "model_google = gensim.models.KeyedVectors.load_word2vec_format('../../Data/GoogleNews-vectors-negative300.bin', binary=True)"
   ]
  },
  {
   "cell_type": "code",
   "execution_count": 11,
   "metadata": {},
   "outputs": [],
   "source": [
    "model_goojd = model_google\n",
    "model_goojd.add(words_jd, embeddings_jd)"
   ]
  },
  {
   "cell_type": "code",
   "execution_count": 12,
   "metadata": {},
   "outputs": [
    {
     "data": {
      "text/plain": [
       "3071336"
      ]
     },
     "execution_count": 12,
     "metadata": {},
     "output_type": "execute_result"
    }
   ],
   "source": [
    "len(model_goojd.vocab)"
   ]
  },
  {
   "cell_type": "markdown",
   "metadata": {},
   "source": [
    "### Job Description scoring\n",
    "\n",
    "The 22000 job descriptions are scored against the model, taking the mean of the scores of each word.\n",
    "\n",
    "A possible improvement is possible here, by weighting each word by the TF-IDF score."
   ]
  },
  {
   "cell_type": "code",
   "execution_count": 13,
   "metadata": {},
   "outputs": [],
   "source": [
    "job_desc =[]\n",
    "#filters = [lambda x: x.lower(), strip_punctuation, stem_text, remove_stopwords]\n",
    "for i, jd in enumerate(jobs.job_description):\n",
    "    jdd = ' '\n",
    "    for sentence in nltk.sent_tokenize(jd, 'english'):\n",
    "        jdd = jdd + ' ' + preprocess_text(sentence.lower())\n",
    "        #jdd = jdd + ' ' + ' '.join(preprocess_string((sentence), filters))\n",
    "        \n",
    "    job_desc.append(jdd)"
   ]
  },
  {
   "cell_type": "code",
   "execution_count": 14,
   "metadata": {},
   "outputs": [],
   "source": [
    "# split jos description into words\n",
    "for i ,_ in enumerate(job_desc):\n",
    "    job_desc[i] = job_desc[i].split()"
   ]
  },
  {
   "cell_type": "code",
   "execution_count": 15,
   "metadata": {},
   "outputs": [],
   "source": [
    "# score job descriptions\n",
    "job_scored = []\n",
    "for i ,_ in enumerate(job_desc):\n",
    "    job_scored.append(model_goojd[job_desc[i]].mean(axis=0))"
   ]
  },
  {
   "cell_type": "markdown",
   "metadata": {},
   "source": [
    "### TSNE visualisation\n",
    "\n",
    "The t-distributed stochastic neighbor embedding visualisation with Tensorboard allows to see the 22000 jobs represented by a 300 dim vectors in 3D.\n",
    "\n",
    "Shell command: tensorboard --logdir=.\\project-tensorboard\\log_desc"
   ]
  },
  {
   "cell_type": "code",
   "execution_count": 16,
   "metadata": {},
   "outputs": [],
   "source": [
    "# Metadata\n",
    "jobs[['job_title','sector']].to_csv('./project-tensorboard/log_desc/job_desc_meta.tsv', header=True, index=False, sep='\\t')"
   ]
  },
  {
   "cell_type": "code",
   "execution_count": 17,
   "metadata": {},
   "outputs": [],
   "source": [
    "## Get working directory\n",
    "PATH = os.getcwd()\n",
    "\n",
    "## Path to save the embedding and checkpoints generated\n",
    "LOG_DIR = PATH + './project-tensorboard/log_desc/'\n",
    "\n",
    "metadata = os.path.join(LOG_DIR, 'job_desc_meta.tsv')\n",
    "\n",
    "## TensorFlow Variable from data\n",
    "tf_data = tf.Variable(np.asarray(job_scored))"
   ]
  },
  {
   "cell_type": "code",
   "execution_count": 18,
   "metadata": {},
   "outputs": [],
   "source": [
    "## Running TensorFlow Session\n",
    "with tf.Session() as sess:\n",
    "    saver = tf.train.Saver([tf_data])\n",
    "    sess.run(tf_data.initializer)\n",
    "    saver.save(sess, os.path.join(LOG_DIR, 'tf_data.ckpt'))\n",
    "    config = projector.ProjectorConfig()\n",
    "    \n",
    "# One can add multiple embeddings.\n",
    "    embedding = config.embeddings.add()\n",
    "    embedding.tensor_name = tf_data.name\n",
    "    # Link this tensor to its metadata(Labels) file\n",
    "    embedding.metadata_path = metadata\n",
    "    # Saves a config file that TensorBoard will read during startup.\n",
    "    projector.visualize_embeddings(tf.summary.FileWriter(LOG_DIR), config)"
   ]
  },
  {
   "cell_type": "markdown",
   "metadata": {},
   "source": [
    "![SegmentLocal](tensorboard.gif \"segment\")"
   ]
  },
  {
   "cell_type": "markdown",
   "metadata": {},
   "source": [
    "## Search function\n",
    "\n",
    "A free text query is scored with our model to retrive the 10 closest job descriptions in terms of semantics, and ranked by the cosine similarity.\n",
    "\n",
    "Here each text is scored averaging the words scores, next improvement would be to weight these scores with the TF-IDF.\n"
   ]
  },
  {
   "cell_type": "markdown",
   "metadata": {},
   "source": [
    "We can first try to score a single word to retrieve closest words and synomyms, for example 'scientist':"
   ]
  },
  {
   "cell_type": "code",
   "execution_count": 19,
   "metadata": {},
   "outputs": [
    {
     "data": {
      "text/plain": [
       "[('researcher', 0.7906599640846252),\n",
       " ('physicist', 0.7408765554428101),\n",
       " ('biologist', 0.7058728933334351),\n",
       " ('geneticist', 0.6985131502151489),\n",
       " ('microbiologist', 0.6837249398231506),\n",
       " ('biochemist', 0.679307222366333),\n",
       " ('professor', 0.6541188955307007),\n",
       " ('molecular_biologist', 0.6405497193336487),\n",
       " ('ecologist', 0.6376317739486694),\n",
       " ('geoscientist', 0.6362979412078857)]"
      ]
     },
     "execution_count": 19,
     "metadata": {},
     "output_type": "execute_result"
    }
   ],
   "source": [
    "model_goojd.most_similar(\"scientist\", topn=10)"
   ]
  },
  {
   "cell_type": "markdown",
   "metadata": {},
   "source": [
    "Or the full query compared against job descriptions:"
   ]
  },
  {
   "cell_type": "code",
   "execution_count": 20,
   "metadata": {},
   "outputs": [],
   "source": [
    "# Search function\n",
    "query = \"software developer with .net skills\"\n",
    "query = query.lower().split()"
   ]
  },
  {
   "cell_type": "code",
   "execution_count": 21,
   "metadata": {},
   "outputs": [],
   "source": [
    "similarity_to_query = []\n",
    "for i,jd in enumerate(job_desc):\n",
    "    similarity_to_query.append(model_goojd.n_similarity(query, jd))"
   ]
  },
  {
   "cell_type": "code",
   "execution_count": 22,
   "metadata": {},
   "outputs": [
    {
     "data": {
      "text/html": [
       "<div>\n",
       "<style scoped>\n",
       "    .dataframe tbody tr th:only-of-type {\n",
       "        vertical-align: middle;\n",
       "    }\n",
       "\n",
       "    .dataframe tbody tr th {\n",
       "        vertical-align: top;\n",
       "    }\n",
       "\n",
       "    .dataframe thead th {\n",
       "        text-align: right;\n",
       "    }\n",
       "</style>\n",
       "<table border=\"1\" class=\"dataframe\">\n",
       "  <thead>\n",
       "    <tr style=\"text-align: right;\">\n",
       "      <th></th>\n",
       "      <th>Job_title</th>\n",
       "      <th>Job_Description</th>\n",
       "      <th>Similarity</th>\n",
       "    </tr>\n",
       "  </thead>\n",
       "  <tbody>\n",
       "    <tr>\n",
       "      <th>16729</th>\n",
       "      <td>it professionals</td>\n",
       "      <td>IT Professionals (Multiple Positions) SAP Cons...</td>\n",
       "      <td>0.607872</td>\n",
       "    </tr>\n",
       "    <tr>\n",
       "      <th>4841</th>\n",
       "      <td>software automation engineer – python</td>\n",
       "      <td>Software Automation Engineer – Python, Ruby, J...</td>\n",
       "      <td>0.583989</td>\n",
       "    </tr>\n",
       "    <tr>\n",
       "      <th>18080</th>\n",
       "      <td>.net developer</td>\n",
       "      <td>Net Developer TAMKO Building Products, Inc. Ir...</td>\n",
       "      <td>0.574179</td>\n",
       "    </tr>\n",
       "    <tr>\n",
       "      <th>21450</th>\n",
       "      <td>junior java / jee developer</td>\n",
       "      <td>Job Title: Junior Java / J2EE Developer Locati...</td>\n",
       "      <td>0.569483</td>\n",
       "    </tr>\n",
       "    <tr>\n",
       "      <th>1153</th>\n",
       "      <td>jee developer</td>\n",
       "      <td>Our client is currently seeking a J2EE Develop...</td>\n",
       "      <td>0.549309</td>\n",
       "    </tr>\n",
       "    <tr>\n",
       "      <th>177</th>\n",
       "      <td>technical training developer</td>\n",
       "      <td>Technical Training Developer 6 months or longe...</td>\n",
       "      <td>0.549230</td>\n",
       "    </tr>\n",
       "    <tr>\n",
       "      <th>17104</th>\n",
       "      <td>software engineer</td>\n",
       "      <td>Software Engineer Sri Anjaneya Tech Dallas, TX...</td>\n",
       "      <td>0.543767</td>\n",
       "    </tr>\n",
       "    <tr>\n",
       "      <th>3056</th>\n",
       "      <td>juniper conrail test engineer</td>\n",
       "      <td>Dear Associate,We do have an urgent requiremen...</td>\n",
       "      <td>0.541393</td>\n",
       "    </tr>\n",
       "    <tr>\n",
       "      <th>6014</th>\n",
       "      <td>software developer iii</td>\n",
       "      <td>Description Sr .Net Developer 8+ years experie...</td>\n",
       "      <td>0.536462</td>\n",
       "    </tr>\n",
       "    <tr>\n",
       "      <th>21797</th>\n",
       "      <td>qa engineers</td>\n",
       "      <td>CCC Information Services Inc. seeks QA Enginee...</td>\n",
       "      <td>0.536206</td>\n",
       "    </tr>\n",
       "  </tbody>\n",
       "</table>\n",
       "</div>"
      ],
      "text/plain": [
       "                                   Job_title  \\\n",
       "16729                      it professionals    \n",
       "4841   software automation engineer – python   \n",
       "18080                        .net developer    \n",
       "21450           junior java / jee developer    \n",
       "1153                          jee developer    \n",
       "177            technical training developer    \n",
       "17104                     software engineer    \n",
       "3056          juniper conrail test engineer    \n",
       "6014                 software developer iii    \n",
       "21797                          qa engineers    \n",
       "\n",
       "                                         Job_Description  Similarity  \n",
       "16729  IT Professionals (Multiple Positions) SAP Cons...    0.607872  \n",
       "4841   Software Automation Engineer – Python, Ruby, J...    0.583989  \n",
       "18080  Net Developer TAMKO Building Products, Inc. Ir...    0.574179  \n",
       "21450  Job Title: Junior Java / J2EE Developer Locati...    0.569483  \n",
       "1153   Our client is currently seeking a J2EE Develop...    0.549309  \n",
       "177    Technical Training Developer 6 months or longe...    0.549230  \n",
       "17104  Software Engineer Sri Anjaneya Tech Dallas, TX...    0.543767  \n",
       "3056   Dear Associate,We do have an urgent requiremen...    0.541393  \n",
       "6014   Description Sr .Net Developer 8+ years experie...    0.536462  \n",
       "21797  CCC Information Services Inc. seeks QA Enginee...    0.536206  "
      ]
     },
     "execution_count": 22,
     "metadata": {},
     "output_type": "execute_result"
    }
   ],
   "source": [
    "results = pd.DataFrame({'Job_title': jobs['job_title'], 'Job_Description' : jobs['job_description'],  'Similarity': similarity_to_query})\n",
    "results.sort_values(['Similarity'], ascending=False).head(10)"
   ]
  }
 ],
 "metadata": {
  "kernelspec": {
   "display_name": "Python 3",
   "language": "python",
   "name": "python3"
  },
  "language_info": {
   "codemirror_mode": {
    "name": "ipython",
    "version": 3
   },
   "file_extension": ".py",
   "mimetype": "text/x-python",
   "name": "python",
   "nbconvert_exporter": "python",
   "pygments_lexer": "ipython3",
   "version": "3.6.7"
  }
 },
 "nbformat": 4,
 "nbformat_minor": 2
}
